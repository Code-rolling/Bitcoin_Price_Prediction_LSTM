{
  "nbformat": 4,
  "nbformat_minor": 0,
  "metadata": {
    "colab": {
      "provenance": [],
      "authorship_tag": "ABX9TyOTS7YYUv8MFUvDwvPMSgGb",
      "include_colab_link": true
    },
    "kernelspec": {
      "name": "python3",
      "display_name": "Python 3"
    },
    "language_info": {
      "name": "python"
    },
    "accelerator": "GPU"
  },
  "cells": [
    {
      "cell_type": "markdown",
      "metadata": {
        "id": "view-in-github",
        "colab_type": "text"
      },
      "source": [
        "<a href=\"https://colab.research.google.com/github/Code-rolling/Bitcoin_Price_Prediction_LSTM/blob/main/LSTM.ipynb\" target=\"_parent\"><img src=\"https://colab.research.google.com/assets/colab-badge.svg\" alt=\"Open In Colab\"/></a>"
      ]
    },
    {
      "cell_type": "markdown",
      "source": [
        "# Bitcoin Price Prediction Using LSTM Model\n",
        "This code was used to produce findings for the paper."
      ],
      "metadata": {
        "id": "zMWoA1S_1XIL"
      }
    },
    {
      "cell_type": "code",
      "source": [
        "#Fist, we import our libraries.\n",
        "\n",
        "#1.   For data manipulation\n",
        "import numpy as np\n",
        "import pandas as pd\n",
        "#2.   For visualizing\n",
        "import matplotlib.pyplot as plt\n",
        "import seaborn as sns\n",
        "from IPython.display import display\n",
        "from keras.utils.vis_utils import plot_model\n",
        "#3.   For our neural network building\n",
        "import tensorflow as tf\n",
        "import keras.api._v2.keras as keras\n",
        "from keras import Sequential\n",
        "from keras.layers import Dense, LSTM, Dropout, CuDNNLSTM \n",
        "#4.   For data preproccessing\n",
        "from sklearn.preprocessing import MinMaxScaler\n",
        "from sklearn.metrics import mean_squared_error, mean_absolute_error, r2_score \n",
        "from sklearn.metrics import mean_poisson_deviance, mean_gamma_deviance, accuracy_score"
      ],
      "metadata": {
        "id": "9DHzsA7H1dyH"
      },
      "execution_count": null,
      "outputs": []
    },
    {
      "cell_type": "code",
      "execution_count": null,
      "metadata": {
        "colab": {
          "base_uri": "https://localhost:8080/",
          "height": 206
        },
        "id": "Q1rZW87J1V13",
        "outputId": "965ea144-ebdc-41fc-acea-7e7982479bf5"
      },
      "outputs": [
        {
          "output_type": "execute_result",
          "data": {
            "text/plain": [
              "        Date      Open      High       Low     Close        Volume  \\\n",
              "0 2022-05-16  29833.05  30731.70  29532.76  30452.62   54496429838   \n",
              "1 2022-05-15  31293.22  31293.22  29239.16  29880.55   55757204907   \n",
              "2 2022-05-14  30076.93  31390.48  29512.24  31333.77   45280980437   \n",
              "3 2022-05-13  29289.78  30255.81  28735.71  30123.78   66074598286   \n",
              "4 2022-05-12  29012.39  30990.36  28784.98  29250.00  143425804516   \n",
              "\n",
              "     Market_Cap  \n",
              "0  576731773061  \n",
              "1  570951550317  \n",
              "2  573617058982  \n",
              "3  559872002421  \n",
              "4  574594869134  "
            ],
            "text/html": [
              "\n",
              "  <div id=\"df-2a0b8329-a3de-4bb2-a42b-c891cc8597f1\">\n",
              "    <div class=\"colab-df-container\">\n",
              "      <div>\n",
              "<style scoped>\n",
              "    .dataframe tbody tr th:only-of-type {\n",
              "        vertical-align: middle;\n",
              "    }\n",
              "\n",
              "    .dataframe tbody tr th {\n",
              "        vertical-align: top;\n",
              "    }\n",
              "\n",
              "    .dataframe thead th {\n",
              "        text-align: right;\n",
              "    }\n",
              "</style>\n",
              "<table border=\"1\" class=\"dataframe\">\n",
              "  <thead>\n",
              "    <tr style=\"text-align: right;\">\n",
              "      <th></th>\n",
              "      <th>Date</th>\n",
              "      <th>Open</th>\n",
              "      <th>High</th>\n",
              "      <th>Low</th>\n",
              "      <th>Close</th>\n",
              "      <th>Volume</th>\n",
              "      <th>Market_Cap</th>\n",
              "    </tr>\n",
              "  </thead>\n",
              "  <tbody>\n",
              "    <tr>\n",
              "      <th>0</th>\n",
              "      <td>2022-05-16</td>\n",
              "      <td>29833.05</td>\n",
              "      <td>30731.70</td>\n",
              "      <td>29532.76</td>\n",
              "      <td>30452.62</td>\n",
              "      <td>54496429838</td>\n",
              "      <td>576731773061</td>\n",
              "    </tr>\n",
              "    <tr>\n",
              "      <th>1</th>\n",
              "      <td>2022-05-15</td>\n",
              "      <td>31293.22</td>\n",
              "      <td>31293.22</td>\n",
              "      <td>29239.16</td>\n",
              "      <td>29880.55</td>\n",
              "      <td>55757204907</td>\n",
              "      <td>570951550317</td>\n",
              "    </tr>\n",
              "    <tr>\n",
              "      <th>2</th>\n",
              "      <td>2022-05-14</td>\n",
              "      <td>30076.93</td>\n",
              "      <td>31390.48</td>\n",
              "      <td>29512.24</td>\n",
              "      <td>31333.77</td>\n",
              "      <td>45280980437</td>\n",
              "      <td>573617058982</td>\n",
              "    </tr>\n",
              "    <tr>\n",
              "      <th>3</th>\n",
              "      <td>2022-05-13</td>\n",
              "      <td>29289.78</td>\n",
              "      <td>30255.81</td>\n",
              "      <td>28735.71</td>\n",
              "      <td>30123.78</td>\n",
              "      <td>66074598286</td>\n",
              "      <td>559872002421</td>\n",
              "    </tr>\n",
              "    <tr>\n",
              "      <th>4</th>\n",
              "      <td>2022-05-12</td>\n",
              "      <td>29012.39</td>\n",
              "      <td>30990.36</td>\n",
              "      <td>28784.98</td>\n",
              "      <td>29250.00</td>\n",
              "      <td>143425804516</td>\n",
              "      <td>574594869134</td>\n",
              "    </tr>\n",
              "  </tbody>\n",
              "</table>\n",
              "</div>\n",
              "      <button class=\"colab-df-convert\" onclick=\"convertToInteractive('df-2a0b8329-a3de-4bb2-a42b-c891cc8597f1')\"\n",
              "              title=\"Convert this dataframe to an interactive table.\"\n",
              "              style=\"display:none;\">\n",
              "        \n",
              "  <svg xmlns=\"http://www.w3.org/2000/svg\" height=\"24px\"viewBox=\"0 0 24 24\"\n",
              "       width=\"24px\">\n",
              "    <path d=\"M0 0h24v24H0V0z\" fill=\"none\"/>\n",
              "    <path d=\"M18.56 5.44l.94 2.06.94-2.06 2.06-.94-2.06-.94-.94-2.06-.94 2.06-2.06.94zm-11 1L8.5 8.5l.94-2.06 2.06-.94-2.06-.94L8.5 2.5l-.94 2.06-2.06.94zm10 10l.94 2.06.94-2.06 2.06-.94-2.06-.94-.94-2.06-.94 2.06-2.06.94z\"/><path d=\"M17.41 7.96l-1.37-1.37c-.4-.4-.92-.59-1.43-.59-.52 0-1.04.2-1.43.59L10.3 9.45l-7.72 7.72c-.78.78-.78 2.05 0 2.83L4 21.41c.39.39.9.59 1.41.59.51 0 1.02-.2 1.41-.59l7.78-7.78 2.81-2.81c.8-.78.8-2.07 0-2.86zM5.41 20L4 18.59l7.72-7.72 1.47 1.35L5.41 20z\"/>\n",
              "  </svg>\n",
              "      </button>\n",
              "      \n",
              "  <style>\n",
              "    .colab-df-container {\n",
              "      display:flex;\n",
              "      flex-wrap:wrap;\n",
              "      gap: 12px;\n",
              "    }\n",
              "\n",
              "    .colab-df-convert {\n",
              "      background-color: #E8F0FE;\n",
              "      border: none;\n",
              "      border-radius: 50%;\n",
              "      cursor: pointer;\n",
              "      display: none;\n",
              "      fill: #1967D2;\n",
              "      height: 32px;\n",
              "      padding: 0 0 0 0;\n",
              "      width: 32px;\n",
              "    }\n",
              "\n",
              "    .colab-df-convert:hover {\n",
              "      background-color: #E2EBFA;\n",
              "      box-shadow: 0px 1px 2px rgba(60, 64, 67, 0.3), 0px 1px 3px 1px rgba(60, 64, 67, 0.15);\n",
              "      fill: #174EA6;\n",
              "    }\n",
              "\n",
              "    [theme=dark] .colab-df-convert {\n",
              "      background-color: #3B4455;\n",
              "      fill: #D2E3FC;\n",
              "    }\n",
              "\n",
              "    [theme=dark] .colab-df-convert:hover {\n",
              "      background-color: #434B5C;\n",
              "      box-shadow: 0px 1px 3px 1px rgba(0, 0, 0, 0.15);\n",
              "      filter: drop-shadow(0px 1px 2px rgba(0, 0, 0, 0.3));\n",
              "      fill: #FFFFFF;\n",
              "    }\n",
              "  </style>\n",
              "\n",
              "      <script>\n",
              "        const buttonEl =\n",
              "          document.querySelector('#df-2a0b8329-a3de-4bb2-a42b-c891cc8597f1 button.colab-df-convert');\n",
              "        buttonEl.style.display =\n",
              "          google.colab.kernel.accessAllowed ? 'block' : 'none';\n",
              "\n",
              "        async function convertToInteractive(key) {\n",
              "          const element = document.querySelector('#df-2a0b8329-a3de-4bb2-a42b-c891cc8597f1');\n",
              "          const dataTable =\n",
              "            await google.colab.kernel.invokeFunction('convertToInteractive',\n",
              "                                                     [key], {});\n",
              "          if (!dataTable) return;\n",
              "\n",
              "          const docLinkHtml = 'Like what you see? Visit the ' +\n",
              "            '<a target=\"_blank\" href=https://colab.research.google.com/notebooks/data_table.ipynb>data table notebook</a>'\n",
              "            + ' to learn more about interactive tables.';\n",
              "          element.innerHTML = '';\n",
              "          dataTable['output_type'] = 'display_data';\n",
              "          await google.colab.output.renderOutput(dataTable, element);\n",
              "          const docLink = document.createElement('div');\n",
              "          docLink.innerHTML = docLinkHtml;\n",
              "          element.appendChild(docLink);\n",
              "        }\n",
              "      </script>\n",
              "    </div>\n",
              "  </div>\n",
              "  "
            ]
          },
          "metadata": {},
          "execution_count": 2
        }
      ],
      "source": [
        "#We draw bitcoin values from Yahoo Finance between 17th May 2019 and 16th May 2022\n",
        "url= \"https://drive.google.com/file/d/11xbnjG_oKuiPH3sfCbjDe-mby8l4Pfra/view?usp=sharing\"\n",
        "file_id=url.split('/')[-2]\n",
        "dwn_url='https://drive.google.com/uc?id=' + file_id\n",
        "df = pd.read_csv(dwn_url, parse_dates=[\"Date\"])\n",
        "df.head()"
      ]
    },
    {
      "cell_type": "code",
      "source": [
        "#Set our datetime\n",
        "df[\"Date\"] = pd.to_datetime(df[\"Date\"])\n",
        "\n",
        "#sort them in case here are any swapped dates\n",
        "df = df.sort_values('Date')\n",
        "\n",
        "# checking if there is any date more than once.\n",
        "df[\"Date\"].is_unique\n",
        "\n",
        "#turn indexes from string to numeric\n",
        "#Be sure that there in no missing values\n",
        "df.index = pd.to_numeric(df.index, errors='coerce')\n",
        "display(df.info())"
      ],
      "metadata": {
        "colab": {
          "base_uri": "https://localhost:8080/",
          "height": 285
        },
        "id": "MFKen7k0kZjS",
        "outputId": "cdbed152-d0e3-48d8-a545-bbd428a2cb87"
      },
      "execution_count": null,
      "outputs": [
        {
          "output_type": "stream",
          "name": "stdout",
          "text": [
            "<class 'pandas.core.frame.DataFrame'>\n",
            "Int64Index: 1096 entries, 1095 to 0\n",
            "Data columns (total 7 columns):\n",
            " #   Column      Non-Null Count  Dtype         \n",
            "---  ------      --------------  -----         \n",
            " 0   Date        1096 non-null   datetime64[ns]\n",
            " 1   Open        1096 non-null   float64       \n",
            " 2   High        1096 non-null   float64       \n",
            " 3   Low         1096 non-null   float64       \n",
            " 4   Close       1096 non-null   float64       \n",
            " 5   Volume      1096 non-null   int64         \n",
            " 6   Market_Cap  1096 non-null   int64         \n",
            "dtypes: datetime64[ns](1), float64(4), int64(2)\n",
            "memory usage: 68.5 KB\n"
          ]
        },
        {
          "output_type": "display_data",
          "data": {
            "text/plain": [
              "None"
            ]
          },
          "metadata": {}
        }
      ]
    },
    {
      "cell_type": "code",
      "source": [
        "# drop the volume and market capital since we don't going to use in our model\n",
        "df.drop(df.columns[[5,6]], axis=1, inplace=True)\n",
        "display(df.head())"
      ],
      "metadata": {
        "id": "yzTBudvu_9P7",
        "colab": {
          "base_uri": "https://localhost:8080/",
          "height": 206
        },
        "outputId": "9a90e8a7-81ef-497d-8978-a292400b88ac"
      },
      "execution_count": null,
      "outputs": [
        {
          "output_type": "display_data",
          "data": {
            "text/plain": [
              "           Date     Open     High      Low    Close\n",
              "1095 2019-05-17  7393.58  7511.65  7295.38  7332.61\n",
              "1094 2019-05-18  7328.42  8237.72  7328.42  8186.66\n",
              "1093 2019-05-19  8172.97  8172.97  7715.42  8004.46\n",
              "1092 2019-05-20  8004.58  8090.52  7864.92  7984.31\n",
              "1091 2019-05-21  7965.94  8010.77  7731.16  7744.86"
            ],
            "text/html": [
              "\n",
              "  <div id=\"df-f3115d66-f869-447c-9f78-b435b2a9d120\">\n",
              "    <div class=\"colab-df-container\">\n",
              "      <div>\n",
              "<style scoped>\n",
              "    .dataframe tbody tr th:only-of-type {\n",
              "        vertical-align: middle;\n",
              "    }\n",
              "\n",
              "    .dataframe tbody tr th {\n",
              "        vertical-align: top;\n",
              "    }\n",
              "\n",
              "    .dataframe thead th {\n",
              "        text-align: right;\n",
              "    }\n",
              "</style>\n",
              "<table border=\"1\" class=\"dataframe\">\n",
              "  <thead>\n",
              "    <tr style=\"text-align: right;\">\n",
              "      <th></th>\n",
              "      <th>Date</th>\n",
              "      <th>Open</th>\n",
              "      <th>High</th>\n",
              "      <th>Low</th>\n",
              "      <th>Close</th>\n",
              "    </tr>\n",
              "  </thead>\n",
              "  <tbody>\n",
              "    <tr>\n",
              "      <th>1095</th>\n",
              "      <td>2019-05-17</td>\n",
              "      <td>7393.58</td>\n",
              "      <td>7511.65</td>\n",
              "      <td>7295.38</td>\n",
              "      <td>7332.61</td>\n",
              "    </tr>\n",
              "    <tr>\n",
              "      <th>1094</th>\n",
              "      <td>2019-05-18</td>\n",
              "      <td>7328.42</td>\n",
              "      <td>8237.72</td>\n",
              "      <td>7328.42</td>\n",
              "      <td>8186.66</td>\n",
              "    </tr>\n",
              "    <tr>\n",
              "      <th>1093</th>\n",
              "      <td>2019-05-19</td>\n",
              "      <td>8172.97</td>\n",
              "      <td>8172.97</td>\n",
              "      <td>7715.42</td>\n",
              "      <td>8004.46</td>\n",
              "    </tr>\n",
              "    <tr>\n",
              "      <th>1092</th>\n",
              "      <td>2019-05-20</td>\n",
              "      <td>8004.58</td>\n",
              "      <td>8090.52</td>\n",
              "      <td>7864.92</td>\n",
              "      <td>7984.31</td>\n",
              "    </tr>\n",
              "    <tr>\n",
              "      <th>1091</th>\n",
              "      <td>2019-05-21</td>\n",
              "      <td>7965.94</td>\n",
              "      <td>8010.77</td>\n",
              "      <td>7731.16</td>\n",
              "      <td>7744.86</td>\n",
              "    </tr>\n",
              "  </tbody>\n",
              "</table>\n",
              "</div>\n",
              "      <button class=\"colab-df-convert\" onclick=\"convertToInteractive('df-f3115d66-f869-447c-9f78-b435b2a9d120')\"\n",
              "              title=\"Convert this dataframe to an interactive table.\"\n",
              "              style=\"display:none;\">\n",
              "        \n",
              "  <svg xmlns=\"http://www.w3.org/2000/svg\" height=\"24px\"viewBox=\"0 0 24 24\"\n",
              "       width=\"24px\">\n",
              "    <path d=\"M0 0h24v24H0V0z\" fill=\"none\"/>\n",
              "    <path d=\"M18.56 5.44l.94 2.06.94-2.06 2.06-.94-2.06-.94-.94-2.06-.94 2.06-2.06.94zm-11 1L8.5 8.5l.94-2.06 2.06-.94-2.06-.94L8.5 2.5l-.94 2.06-2.06.94zm10 10l.94 2.06.94-2.06 2.06-.94-2.06-.94-.94-2.06-.94 2.06-2.06.94z\"/><path d=\"M17.41 7.96l-1.37-1.37c-.4-.4-.92-.59-1.43-.59-.52 0-1.04.2-1.43.59L10.3 9.45l-7.72 7.72c-.78.78-.78 2.05 0 2.83L4 21.41c.39.39.9.59 1.41.59.51 0 1.02-.2 1.41-.59l7.78-7.78 2.81-2.81c.8-.78.8-2.07 0-2.86zM5.41 20L4 18.59l7.72-7.72 1.47 1.35L5.41 20z\"/>\n",
              "  </svg>\n",
              "      </button>\n",
              "      \n",
              "  <style>\n",
              "    .colab-df-container {\n",
              "      display:flex;\n",
              "      flex-wrap:wrap;\n",
              "      gap: 12px;\n",
              "    }\n",
              "\n",
              "    .colab-df-convert {\n",
              "      background-color: #E8F0FE;\n",
              "      border: none;\n",
              "      border-radius: 50%;\n",
              "      cursor: pointer;\n",
              "      display: none;\n",
              "      fill: #1967D2;\n",
              "      height: 32px;\n",
              "      padding: 0 0 0 0;\n",
              "      width: 32px;\n",
              "    }\n",
              "\n",
              "    .colab-df-convert:hover {\n",
              "      background-color: #E2EBFA;\n",
              "      box-shadow: 0px 1px 2px rgba(60, 64, 67, 0.3), 0px 1px 3px 1px rgba(60, 64, 67, 0.15);\n",
              "      fill: #174EA6;\n",
              "    }\n",
              "\n",
              "    [theme=dark] .colab-df-convert {\n",
              "      background-color: #3B4455;\n",
              "      fill: #D2E3FC;\n",
              "    }\n",
              "\n",
              "    [theme=dark] .colab-df-convert:hover {\n",
              "      background-color: #434B5C;\n",
              "      box-shadow: 0px 1px 3px 1px rgba(0, 0, 0, 0.15);\n",
              "      filter: drop-shadow(0px 1px 2px rgba(0, 0, 0, 0.3));\n",
              "      fill: #FFFFFF;\n",
              "    }\n",
              "  </style>\n",
              "\n",
              "      <script>\n",
              "        const buttonEl =\n",
              "          document.querySelector('#df-f3115d66-f869-447c-9f78-b435b2a9d120 button.colab-df-convert');\n",
              "        buttonEl.style.display =\n",
              "          google.colab.kernel.accessAllowed ? 'block' : 'none';\n",
              "\n",
              "        async function convertToInteractive(key) {\n",
              "          const element = document.querySelector('#df-f3115d66-f869-447c-9f78-b435b2a9d120');\n",
              "          const dataTable =\n",
              "            await google.colab.kernel.invokeFunction('convertToInteractive',\n",
              "                                                     [key], {});\n",
              "          if (!dataTable) return;\n",
              "\n",
              "          const docLinkHtml = 'Like what you see? Visit the ' +\n",
              "            '<a target=\"_blank\" href=https://colab.research.google.com/notebooks/data_table.ipynb>data table notebook</a>'\n",
              "            + ' to learn more about interactive tables.';\n",
              "          element.innerHTML = '';\n",
              "          dataTable['output_type'] = 'display_data';\n",
              "          await google.colab.output.renderOutput(dataTable, element);\n",
              "          const docLink = document.createElement('div');\n",
              "          docLink.innerHTML = docLinkHtml;\n",
              "          element.appendChild(docLink);\n",
              "        }\n",
              "      </script>\n",
              "    </div>\n",
              "  </div>\n",
              "  "
            ]
          },
          "metadata": {}
        }
      ]
    },
    {
      "cell_type": "code",
      "source": [
        "#Visualize the data based on \"closing price\" (we want to predict this value)\n",
        "plt.figure(figsize=(15,8))\n",
        "sns.set_theme(style=\"whitegrid\")\n",
        "sns.lineplot(data=df,y=\"Close\", x=\"Date\")"
      ],
      "metadata": {
        "colab": {
          "base_uri": "https://localhost:8080/",
          "height": 520
        },
        "id": "pxS2L2mjFvgn",
        "outputId": "b90db6db-38bc-4e28-9533-500deb7a0a5c"
      },
      "execution_count": null,
      "outputs": [
        {
          "output_type": "execute_result",
          "data": {
            "text/plain": [
              "<matplotlib.axes._subplots.AxesSubplot at 0x7fba487ca390>"
            ]
          },
          "metadata": {},
          "execution_count": 5
        },
        {
          "output_type": "display_data",
          "data": {
            "text/plain": [
              "<Figure size 1080x576 with 1 Axes>"
            ],
            "image/png": "[encoded data removed]"
          },
          "metadata": {
            "needs_background": "light"
          }
        }
      ]
    },
    {
      "cell_type": "code",
      "source": [
        "#find the mean and varience to see if distribution is non-stationary\n",
        "print(df[\"Close\"].describe())"
      ],
      "metadata": {
        "colab": {
          "base_uri": "https://localhost:8080/"
        },
        "id": "cVODSea6PG0-",
        "outputId": "ffbafedc-04a3-4080-f574-a64251044a41"
      },
      "execution_count": null,
      "outputs": [
        {
          "output_type": "stream",
          "name": "stdout",
          "text": [
            "count     1096.000000\n",
            "mean     26445.350073\n",
            "std      18757.517621\n",
            "min       4724.390000\n",
            "25%       9347.370000\n",
            "50%      16520.625000\n",
            "75%      42979.450000\n",
            "max      67500.020000\n",
            "Name: Close, dtype: float64\n"
          ]
        }
      ]
    },
    {
      "cell_type": "code",
      "source": [
        "# The data has splitted into two groups; %80 training (878 days) and %20 test (218 days)\n",
        "split=pd.to_datetime(\"2021-10-10\")\n",
        "train_date= df[\"Date\"]<=split\n",
        "test_date= df[\"Date\"]>split\n",
        "df_train = df.loc[train_date]\n",
        "df_test = df.loc[test_date]\n",
        "\n",
        "display(df_train.head())\n",
        "display(df_test.head())"
      ],
      "metadata": {
        "colab": {
          "base_uri": "https://localhost:8080/",
          "height": 395
        },
        "id": "yts9y3bk_Yd3",
        "outputId": "6c6bdecb-39e5-4a83-e727-ec0f40adb65d"
      },
      "execution_count": null,
      "outputs": [
        {
          "output_type": "display_data",
          "data": {
            "text/plain": [
              "           Date     Open     High      Low    Close\n",
              "1095 2019-05-17  7393.58  7511.65  7295.38  7332.61\n",
              "1094 2019-05-18  7328.42  8237.72  7328.42  8186.66\n",
              "1093 2019-05-19  8172.97  8172.97  7715.42  8004.46\n",
              "1092 2019-05-20  8004.58  8090.52  7864.92  7984.31\n",
              "1091 2019-05-21  7965.94  8010.77  7731.16  7744.86"
            ],
            "text/html": [
              "\n",
              "  <div id=\"df-e0a9867b-1178-4ce8-9582-4e40214369f4\">\n",
              "    <div class=\"colab-df-container\">\n",
              "      <div>\n",
              "<style scoped>\n",
              "    .dataframe tbody tr th:only-of-type {\n",
              "        vertical-align: middle;\n",
              "    }\n",
              "\n",
              "    .dataframe tbody tr th {\n",
              "        vertical-align: top;\n",
              "    }\n",
              "\n",
              "    .dataframe thead th {\n",
              "        text-align: right;\n",
              "    }\n",
              "</style>\n",
              "<table border=\"1\" class=\"dataframe\">\n",
              "  <thead>\n",
              "    <tr style=\"text-align: right;\">\n",
              "      <th></th>\n",
              "      <th>Date</th>\n",
              "      <th>Open</th>\n",
              "      <th>High</th>\n",
              "      <th>Low</th>\n",
              "      <th>Close</th>\n",
              "    </tr>\n",
              "  </thead>\n",
              "  <tbody>\n",
              "    <tr>\n",
              "      <th>1095</th>\n",
              "      <td>2019-05-17</td>\n",
              "      <td>7393.58</td>\n",
              "      <td>7511.65</td>\n",
              "      <td>7295.38</td>\n",
              "      <td>7332.61</td>\n",
              "    </tr>\n",
              "    <tr>\n",
              "      <th>1094</th>\n",
              "      <td>2019-05-18</td>\n",
              "      <td>7328.42</td>\n",
              "      <td>8237.72</td>\n",
              "      <td>7328.42</td>\n",
              "      <td>8186.66</td>\n",
              "    </tr>\n",
              "    <tr>\n",
              "      <th>1093</th>\n",
              "      <td>2019-05-19</td>\n",
              "      <td>8172.97</td>\n",
              "      <td>8172.97</td>\n",
              "      <td>7715.42</td>\n",
              "      <td>8004.46</td>\n",
              "    </tr>\n",
              "    <tr>\n",
              "      <th>1092</th>\n",
              "      <td>2019-05-20</td>\n",
              "      <td>8004.58</td>\n",
              "      <td>8090.52</td>\n",
              "      <td>7864.92</td>\n",
              "      <td>7984.31</td>\n",
              "    </tr>\n",
              "    <tr>\n",
              "      <th>1091</th>\n",
              "      <td>2019-05-21</td>\n",
              "      <td>7965.94</td>\n",
              "      <td>8010.77</td>\n",
              "      <td>7731.16</td>\n",
              "      <td>7744.86</td>\n",
              "    </tr>\n",
              "  </tbody>\n",
              "</table>\n",
              "</div>\n",
              "      <button class=\"colab-df-convert\" onclick=\"convertToInteractive('df-e0a9867b-1178-4ce8-9582-4e40214369f4')\"\n",
              "              title=\"Convert this dataframe to an interactive table.\"\n",
              "              style=\"display:none;\">\n",
              "        \n",
              "  <svg xmlns=\"http://www.w3.org/2000/svg\" height=\"24px\"viewBox=\"0 0 24 24\"\n",
              "       width=\"24px\">\n",
              "    <path d=\"M0 0h24v24H0V0z\" fill=\"none\"/>\n",
              "    <path d=\"M18.56 5.44l.94 2.06.94-2.06 2.06-.94-2.06-.94-.94-2.06-.94 2.06-2.06.94zm-11 1L8.5 8.5l.94-2.06 2.06-.94-2.06-.94L8.5 2.5l-.94 2.06-2.06.94zm10 10l.94 2.06.94-2.06 2.06-.94-2.06-.94-.94-2.06-.94 2.06-2.06.94z\"/><path d=\"M17.41 7.96l-1.37-1.37c-.4-.4-.92-.59-1.43-.59-.52 0-1.04.2-1.43.59L10.3 9.45l-7.72 7.72c-.78.78-.78 2.05 0 2.83L4 21.41c.39.39.9.59 1.41.59.51 0 1.02-.2 1.41-.59l7.78-7.78 2.81-2.81c.8-.78.8-2.07 0-2.86zM5.41 20L4 18.59l7.72-7.72 1.47 1.35L5.41 20z\"/>\n",
              "  </svg>\n",
              "      </button>\n",
              "      \n",
              "  <style>\n",
              "    .colab-df-container {\n",
              "      display:flex;\n",
              "      flex-wrap:wrap;\n",
              "      gap: 12px;\n",
              "    }\n",
              "\n",
              "    .colab-df-convert {\n",
              "      background-color: #E8F0FE;\n",
              "      border: none;\n",
              "      border-radius: 50%;\n",
              "      cursor: pointer;\n",
              "      display: none;\n",
              "      fill: #1967D2;\n",
              "      height: 32px;\n",
              "      padding: 0 0 0 0;\n",
              "      width: 32px;\n",
              "    }\n",
              "\n",
              "    .colab-df-convert:hover {\n",
              "      background-color: #E2EBFA;\n",
              "      box-shadow: 0px 1px 2px rgba(60, 64, 67, 0.3), 0px 1px 3px 1px rgba(60, 64, 67, 0.15);\n",
              "      fill: #174EA6;\n",
              "    }\n",
              "\n",
              "    [theme=dark] .colab-df-convert {\n",
              "      background-color: #3B4455;\n",
              "      fill: #D2E3FC;\n",
              "    }\n",
              "\n",
              "    [theme=dark] .colab-df-convert:hover {\n",
              "      background-color: #434B5C;\n",
              "      box-shadow: 0px 1px 3px 1px rgba(0, 0, 0, 0.15);\n",
              "      filter: drop-shadow(0px 1px 2px rgba(0, 0, 0, 0.3));\n",
              "      fill: #FFFFFF;\n",
              "    }\n",
              "  </style>\n",
              "\n",
              "      <script>\n",
              "        const buttonEl =\n",
              "          document.querySelector('#df-e0a9867b-1178-4ce8-9582-4e40214369f4 button.colab-df-convert');\n",
              "        buttonEl.style.display =\n",
              "          google.colab.kernel.accessAllowed ? 'block' : 'none';\n",
              "\n",
              "        async function convertToInteractive(key) {\n",
              "          const element = document.querySelector('#df-e0a9867b-1178-4ce8-9582-4e40214369f4');\n",
              "          const dataTable =\n",
              "            await google.colab.kernel.invokeFunction('convertToInteractive',\n",
              "                                                     [key], {});\n",
              "          if (!dataTable) return;\n",
              "\n",
              "          const docLinkHtml = 'Like what you see? Visit the ' +\n",
              "            '<a target=\"_blank\" href=https://colab.research.google.com/notebooks/data_table.ipynb>data table notebook</a>'\n",
              "            + ' to learn more about interactive tables.';\n",
              "          element.innerHTML = '';\n",
              "          dataTable['output_type'] = 'display_data';\n",
              "          await google.colab.output.renderOutput(dataTable, element);\n",
              "          const docLink = document.createElement('div');\n",
              "          docLink.innerHTML = docLinkHtml;\n",
              "          element.appendChild(docLink);\n",
              "        }\n",
              "      </script>\n",
              "    </div>\n",
              "  </div>\n",
              "  "
            ]
          },
          "metadata": {}
        },
        {
          "output_type": "display_data",
          "data": {
            "text/plain": [
              "          Date      Open      High       Low     Close\n",
              "217 2021-10-11  57399.23  57556.70  54375.79  56035.86\n",
              "216 2021-10-12  56030.57  57686.24  54357.85  57357.61\n",
              "215 2021-10-13  57385.89  58392.52  56931.28  57351.74\n",
              "214 2021-10-14  57312.38  62563.02  56896.81  61526.33\n",
              "213 2021-10-15  61698.03  62339.37  60217.26  60860.89"
            ],
            "text/html": [
              "\n",
              "  <div id=\"df-0917f046-a7ae-440b-9531-0be39f0e6b01\">\n",
              "    <div class=\"colab-df-container\">\n",
              "      <div>\n",
              "<style scoped>\n",
              "    .dataframe tbody tr th:only-of-type {\n",
              "        vertical-align: middle;\n",
              "    }\n",
              "\n",
              "    .dataframe tbody tr th {\n",
              "        vertical-align: top;\n",
              "    }\n",
              "\n",
              "    .dataframe thead th {\n",
              "        text-align: right;\n",
              "    }\n",
              "</style>\n",
              "<table border=\"1\" class=\"dataframe\">\n",
              "  <thead>\n",
              "    <tr style=\"text-align: right;\">\n",
              "      <th></th>\n",
              "      <th>Date</th>\n",
              "      <th>Open</th>\n",
              "      <th>High</th>\n",
              "      <th>Low</th>\n",
              "      <th>Close</th>\n",
              "    </tr>\n",
              "  </thead>\n",
              "  <tbody>\n",
              "    <tr>\n",
              "      <th>217</th>\n",
              "      <td>2021-10-11</td>\n",
              "      <td>57399.23</td>\n",
              "      <td>57556.70</td>\n",
              "      <td>54375.79</td>\n",
              "      <td>56035.86</td>\n",
              "    </tr>\n",
              "    <tr>\n",
              "      <th>216</th>\n",
              "      <td>2021-10-12</td>\n",
              "      <td>56030.57</td>\n",
              "      <td>57686.24</td>\n",
              "      <td>54357.85</td>\n",
              "      <td>57357.61</td>\n",
              "    </tr>\n",
              "    <tr>\n",
              "      <th>215</th>\n",
              "      <td>2021-10-13</td>\n",
              "      <td>57385.89</td>\n",
              "      <td>58392.52</td>\n",
              "      <td>56931.28</td>\n",
              "      <td>57351.74</td>\n",
              "    </tr>\n",
              "    <tr>\n",
              "      <th>214</th>\n",
              "      <td>2021-10-14</td>\n",
              "      <td>57312.38</td>\n",
              "      <td>62563.02</td>\n",
              "      <td>56896.81</td>\n",
              "      <td>61526.33</td>\n",
              "    </tr>\n",
              "    <tr>\n",
              "      <th>213</th>\n",
              "      <td>2021-10-15</td>\n",
              "      <td>61698.03</td>\n",
              "      <td>62339.37</td>\n",
              "      <td>60217.26</td>\n",
              "      <td>60860.89</td>\n",
              "    </tr>\n",
              "  </tbody>\n",
              "</table>\n",
              "</div>\n",
              "      <button class=\"colab-df-convert\" onclick=\"convertToInteractive('df-0917f046-a7ae-440b-9531-0be39f0e6b01')\"\n",
              "              title=\"Convert this dataframe to an interactive table.\"\n",
              "              style=\"display:none;\">\n",
              "        \n",
              "  <svg xmlns=\"http://www.w3.org/2000/svg\" height=\"24px\"viewBox=\"0 0 24 24\"\n",
              "       width=\"24px\">\n",
              "    <path d=\"M0 0h24v24H0V0z\" fill=\"none\"/>\n",
              "    <path d=\"M18.56 5.44l.94 2.06.94-2.06 2.06-.94-2.06-.94-.94-2.06-.94 2.06-2.06.94zm-11 1L8.5 8.5l.94-2.06 2.06-.94-2.06-.94L8.5 2.5l-.94 2.06-2.06.94zm10 10l.94 2.06.94-2.06 2.06-.94-2.06-.94-.94-2.06-.94 2.06-2.06.94z\"/><path d=\"M17.41 7.96l-1.37-1.37c-.4-.4-.92-.59-1.43-.59-.52 0-1.04.2-1.43.59L10.3 9.45l-7.72 7.72c-.78.78-.78 2.05 0 2.83L4 21.41c.39.39.9.59 1.41.59.51 0 1.02-.2 1.41-.59l7.78-7.78 2.81-2.81c.8-.78.8-2.07 0-2.86zM5.41 20L4 18.59l7.72-7.72 1.47 1.35L5.41 20z\"/>\n",
              "  </svg>\n",
              "      </button>\n",
              "      \n",
              "  <style>\n",
              "    .colab-df-container {\n",
              "      display:flex;\n",
              "      flex-wrap:wrap;\n",
              "      gap: 12px;\n",
              "    }\n",
              "\n",
              "    .colab-df-convert {\n",
              "      background-color: #E8F0FE;\n",
              "      border: none;\n",
              "      border-radius: 50%;\n",
              "      cursor: pointer;\n",
              "      display: none;\n",
              "      fill: #1967D2;\n",
              "      height: 32px;\n",
              "      padding: 0 0 0 0;\n",
              "      width: 32px;\n",
              "    }\n",
              "\n",
              "    .colab-df-convert:hover {\n",
              "      background-color: #E2EBFA;\n",
              "      box-shadow: 0px 1px 2px rgba(60, 64, 67, 0.3), 0px 1px 3px 1px rgba(60, 64, 67, 0.15);\n",
              "      fill: #174EA6;\n",
              "    }\n",
              "\n",
              "    [theme=dark] .colab-df-convert {\n",
              "      background-color: #3B4455;\n",
              "      fill: #D2E3FC;\n",
              "    }\n",
              "\n",
              "    [theme=dark] .colab-df-convert:hover {\n",
              "      background-color: #434B5C;\n",
              "      box-shadow: 0px 1px 3px 1px rgba(0, 0, 0, 0.15);\n",
              "      filter: drop-shadow(0px 1px 2px rgba(0, 0, 0, 0.3));\n",
              "      fill: #FFFFFF;\n",
              "    }\n",
              "  </style>\n",
              "\n",
              "      <script>\n",
              "        const buttonEl =\n",
              "          document.querySelector('#df-0917f046-a7ae-440b-9531-0be39f0e6b01 button.colab-df-convert');\n",
              "        buttonEl.style.display =\n",
              "          google.colab.kernel.accessAllowed ? 'block' : 'none';\n",
              "\n",
              "        async function convertToInteractive(key) {\n",
              "          const element = document.querySelector('#df-0917f046-a7ae-440b-9531-0be39f0e6b01');\n",
              "          const dataTable =\n",
              "            await google.colab.kernel.invokeFunction('convertToInteractive',\n",
              "                                                     [key], {});\n",
              "          if (!dataTable) return;\n",
              "\n",
              "          const docLinkHtml = 'Like what you see? Visit the ' +\n",
              "            '<a target=\"_blank\" href=https://colab.research.google.com/notebooks/data_table.ipynb>data table notebook</a>'\n",
              "            + ' to learn more about interactive tables.';\n",
              "          element.innerHTML = '';\n",
              "          dataTable['output_type'] = 'display_data';\n",
              "          await google.colab.output.renderOutput(dataTable, element);\n",
              "          const docLink = document.createElement('div');\n",
              "          docLink.innerHTML = docLinkHtml;\n",
              "          element.appendChild(docLink);\n",
              "        }\n",
              "      </script>\n",
              "    </div>\n",
              "  </div>\n",
              "  "
            ]
          },
          "metadata": {}
        }
      ]
    },
    {
      "cell_type": "code",
      "source": [
        "#After we are certain that our data is ready to be fed, We don't need date column for the training.\n",
        "df_train = df_train.drop([\"Date\"], axis=1).copy()"
      ],
      "metadata": {
        "id": "n7vnSaq0BN0q"
      },
      "execution_count": null,
      "outputs": []
    },
    {
      "cell_type": "code",
      "source": [
        "#we normalize our data, in order to cope with outliers and noises. \n",
        "#Min-Max function put the values in a range of [0-1], as lowest value set up to be zero and the highest to be one.\n",
        "scaler= MinMaxScaler()\n",
        "df_train= scaler.fit_transform(df_train)"
      ],
      "metadata": {
        "id": "raO4gvd_mTzH"
      },
      "execution_count": null,
      "outputs": []
    },
    {
      "cell_type": "code",
      "source": [
        "#two list created to train the data\n",
        "X_train, Y_train =[],[]"
      ],
      "metadata": {
        "id": "t9bPvKEBm5d_"
      },
      "execution_count": null,
      "outputs": []
    },
    {
      "cell_type": "code",
      "source": [
        "#find the dimensions of data\n",
        "#(rows,columns)\n",
        "print(np.shape(df_train))"
      ],
      "metadata": {
        "colab": {
          "base_uri": "https://localhost:8080/"
        },
        "id": "Ozf8hKejaomA",
        "outputId": "683f5b1f-7cda-4b11-bbb9-6db629ac689b"
      },
      "execution_count": null,
      "outputs": [
        {
          "output_type": "stream",
          "name": "stdout",
          "text": [
            "(878, 4)\n"
          ]
        }
      ]
    },
    {
      "cell_type": "code",
      "source": [
        "#for every prediction, the model will use past 60 values to predict next day\n",
        "#X_train represents past values to train and Y_train represents how much the prediction close to the actual value.\n",
        "for i in range(60, df_train.shape[0]):\n",
        "  X_train.append(df_train[i-60:i])\n",
        "  Y_train.append(df_train[i,0])\n"
      ],
      "metadata": {
        "id": "nRbVmPdBnkYC"
      },
      "execution_count": null,
      "outputs": []
    },
    {
      "cell_type": "code",
      "source": [
        "#We turn them to numpy array so that Keras can accept it as input\n",
        "X_train, Y_train = np.array(X_train), np.array(Y_train)\n",
        "#Now, we have 818 rows, for each row we have 60 arrays and every one of them 4 diferent feature.\n",
        "X_train.shape"
      ],
      "metadata": {
        "colab": {
          "base_uri": "https://localhost:8080/"
        },
        "id": "Sv0Gac10okQC",
        "outputId": "6fa37512-c0d8-483f-e08e-a1eaca8eb391"
      },
      "execution_count": null,
      "outputs": [
        {
          "output_type": "execute_result",
          "data": {
            "text/plain": [
              "(818, 60, 4)"
            ]
          },
          "metadata": {},
          "execution_count": 13
        }
      ]
    },
    {
      "cell_type": "code",
      "source": [
        "inputShape= X_train.shape[1]"
      ],
      "metadata": {
        "id": "3KX3gQVHcqez"
      },
      "execution_count": null,
      "outputs": []
    },
    {
      "cell_type": "code",
      "source": [
        "#Initialize the RNN\n",
        "#A Sequential model is appropriate for a plain stack of layers where each layer has exactly one input tensor and one output tensor.\n",
        "#[https://keras.io/guides/sequential_model/]\n",
        "#\n",
        "#We use Long Short-Term Memory layer - Hochreiter 1997.\n",
        "#\n",
        "#units--> dimensionality of output space.\n",
        "#\n",
        "#activation--> type of activation function to use. In LSTM, the functions is used in both Forget Gate and Output Gate\n",
        "#Rectified linear activation function, ReLU, gives the values depending on whether the values have positive or negative sign.\n",
        "#ReLU overcomes vanishing gradient problem, which was present in tanh function\n",
        "#\n",
        "#return_sequences--> whether to return the last output. in the output sequence, or the full sequence\n",
        "#recurrent_activation--> is default sigmoid function. Plays role in every gate.\n",
        "#\n",
        "#input_shape--> declare our traning data's shape.\n",
        "model = Sequential()\n",
        "model.add(LSTM(units = 64, activation = 'relu', return_sequences = True, input_shape = (X_train.shape[1], X_train.shape[2])))\n"
      ],
      "metadata": {
        "id": "A_vwYLSipM7M"
      },
      "execution_count": null,
      "outputs": []
    },
    {
      "cell_type": "code",
      "source": [
        "#Dropout is a regulation layer that randomly sets our input units to zero. \n",
        "#This behavior helps avoiding overfitting\n",
        "#[https://keras.io/api/layers/regularization_layers/dropout/]\n",
        "model.add(Dropout(0.2))\n",
        "model.add(LSTM(units = 64, activation = 'relu', return_sequences = True))\n"
      ],
      "metadata": {
        "id": "z3oiq6KPpYVI"
      },
      "execution_count": null,
      "outputs": []
    },
    {
      "cell_type": "code",
      "source": [
        "model.add(Dropout(0.3))\n",
        "model.add(LSTM(units = 64, activation = 'relu', return_sequences = True))\n"
      ],
      "metadata": {
        "id": "mN7g_Mvhpb5H"
      },
      "execution_count": null,
      "outputs": []
    },
    {
      "cell_type": "code",
      "source": [
        "model.add(Dropout(0.4))\n",
        "model.add(LSTM(units = 32, activation = 'relu'))"
      ],
      "metadata": {
        "id": "fmc_6OQ8pfIL"
      },
      "execution_count": null,
      "outputs": []
    },
    {
      "cell_type": "code",
      "source": [
        "#Dense layer set up for our output, which does not feed into our model.\n",
        "model.add(Dense(units =1))"
      ],
      "metadata": {
        "id": "W2ilg0OUpiBK"
      },
      "execution_count": null,
      "outputs": []
    },
    {
      "cell_type": "code",
      "source": [
        "#Adam is a modification for stochastic gradient descent.\n",
        "model.compile(optimizer = 'adam', loss = 'mean_squared_error')"
      ],
      "metadata": {
        "id": "659AjpTmpm0d"
      },
      "execution_count": null,
      "outputs": []
    },
    {
      "cell_type": "code",
      "source": [
        "print(model.summary())"
      ],
      "metadata": {
        "colab": {
          "base_uri": "https://localhost:8080/"
        },
        "id": "2omx_eez_YTp",
        "outputId": "5f978a6c-2fb9-4a97-a351-a47a07d190bb"
      },
      "execution_count": null,
      "outputs": [
        {
          "output_type": "stream",
          "name": "stdout",
          "text": [
            "Model: \"sequential\"\n",
            "_________________________________________________________________\n",
            " Layer (type)                Output Shape              Param #   \n",
            "=================================================================\n",
            " lstm (LSTM)                 (None, 60, 64)            17664     \n",
            "                                                                 \n",
            " dropout (Dropout)           (None, 60, 64)            0         \n",
            "                                                                 \n",
            " lstm_1 (LSTM)               (None, 60, 64)            33024     \n",
            "                                                                 \n",
            " dropout_1 (Dropout)         (None, 60, 64)            0         \n",
            "                                                                 \n",
            " lstm_2 (LSTM)               (None, 60, 64)            33024     \n",
            "                                                                 \n",
            " dropout_2 (Dropout)         (None, 60, 64)            0         \n",
            "                                                                 \n",
            " lstm_3 (LSTM)               (None, 32)                12416     \n",
            "                                                                 \n",
            " dense (Dense)               (None, 1)                 33        \n",
            "                                                                 \n",
            "=================================================================\n",
            "Total params: 96,161\n",
            "Trainable params: 96,161\n",
            "Non-trainable params: 0\n",
            "_________________________________________________________________\n",
            "None\n"
          ]
        }
      ]
    },
    {
      "cell_type": "code",
      "source": [
        "plot_model(model, to_file='model_plot.png', show_shapes=True, show_layer_names=True)"
      ],
      "metadata": {
        "colab": {
          "base_uri": "https://localhost:8080/",
          "height": 976
        },
        "id": "td_wNh3T_bR2",
        "outputId": "c483c1f0-a0d8-44c3-a8ea-c15c0156103f"
      },
      "execution_count": null,
      "outputs": [
        {
          "output_type": "execute_result",
          "data": {
            "text/plain": [
              "<IPython.core.display.Image object>"
            ],
            "image/png": "[encoded data removed]"
          },
          "metadata": {},
          "execution_count": 22
        }
      ]
    },
    {
      "cell_type": "code",
      "source": [
        "#We can now train our model\n",
        "#Epoch-->how many times an input iterate in the model\n",
        "#Batch_size--> how much value will go as input\n",
        "#epoch=!batch\n",
        "#validation_split--> fraction of the training data to be used as validation data\n",
        "history= model.fit(x=X_train, y=Y_train, epochs = 20, batch_size =60, validation_split=0.1)"
      ],
      "metadata": {
        "colab": {
          "base_uri": "https://localhost:8080/"
        },
        "id": "VsDOM79trTlt",
        "outputId": "52aba9df-5690-4bc2-f220-1206c890230f"
      },
      "execution_count": null,
      "outputs": [
        {
          "output_type": "stream",
          "name": "stdout",
          "text": [
            "Epoch 1/20\n",
            "13/13 [==============================] - 23s 900ms/step - loss: 0.0839 - val_loss: 0.0197\n",
            "Epoch 2/20\n",
            "13/13 [==============================] - 5s 388ms/step - loss: 0.0202 - val_loss: 0.0169\n",
            "Epoch 3/20\n",
            "13/13 [==============================] - 5s 373ms/step - loss: 0.0111 - val_loss: 0.0134\n",
            "Epoch 4/20\n",
            "13/13 [==============================] - 5s 373ms/step - loss: 0.0081 - val_loss: 0.0228\n",
            "Epoch 5/20\n",
            "13/13 [==============================] - 5s 371ms/step - loss: 0.0056 - val_loss: 0.0173\n",
            "Epoch 6/20\n",
            "13/13 [==============================] - 5s 388ms/step - loss: 0.0046 - val_loss: 0.0134\n",
            "Epoch 7/20\n",
            "13/13 [==============================] - 5s 383ms/step - loss: 0.0045 - val_loss: 0.0130\n",
            "Epoch 8/20\n",
            "13/13 [==============================] - 5s 379ms/step - loss: 0.0046 - val_loss: 0.0116\n",
            "Epoch 9/20\n",
            "13/13 [==============================] - 5s 389ms/step - loss: 0.0044 - val_loss: 0.0105\n",
            "Epoch 10/20\n",
            "13/13 [==============================] - 5s 369ms/step - loss: 0.0044 - val_loss: 0.0140\n",
            "Epoch 11/20\n",
            "13/13 [==============================] - 5s 392ms/step - loss: 0.0049 - val_loss: 0.0159\n",
            "Epoch 12/20\n",
            "13/13 [==============================] - 5s 378ms/step - loss: 0.0040 - val_loss: 0.0133\n",
            "Epoch 13/20\n",
            "13/13 [==============================] - 5s 376ms/step - loss: 0.0041 - val_loss: 0.0182\n",
            "Epoch 14/20\n",
            "13/13 [==============================] - 5s 377ms/step - loss: 0.0039 - val_loss: 0.0112\n",
            "Epoch 15/20\n",
            "13/13 [==============================] - 5s 385ms/step - loss: 0.0042 - val_loss: 0.0181\n",
            "Epoch 16/20\n",
            "13/13 [==============================] - 5s 377ms/step - loss: 0.0037 - val_loss: 0.0133\n",
            "Epoch 17/20\n",
            "13/13 [==============================] - 5s 373ms/step - loss: 0.0038 - val_loss: 0.0152\n",
            "Epoch 18/20\n",
            "13/13 [==============================] - 5s 418ms/step - loss: 0.0038 - val_loss: 0.0193\n",
            "Epoch 19/20\n",
            "13/13 [==============================] - 6s 429ms/step - loss: 0.0036 - val_loss: 0.0126\n",
            "Epoch 20/20\n",
            "13/13 [==============================] - 5s 380ms/step - loss: 0.0035 - val_loss: 0.0085\n"
          ]
        }
      ]
    },
    {
      "cell_type": "code",
      "source": [
        "#compare the loss between training and validation.\n",
        "#The training loss indicates how well the model is fitting the training data,\n",
        "#while the validation loss indicates how well the model fits new data\n",
        "loss = history.history['loss']\n",
        "val_loss = history.history['val_loss']\n",
        "epochs = range(len(loss))\n",
        "plt.figure()\n",
        "plt.plot(epochs, loss, 'b', label='Training loss')\n",
        "plt.plot(epochs, val_loss, 'r', label='Validation loss')\n",
        "plt.title(\"Training and Validation Loss\")\n",
        "plt.legend()\n",
        "plt.show()"
      ],
      "metadata": {
        "colab": {
          "base_uri": "https://localhost:8080/",
          "height": 284
        },
        "id": "XIK2vFtAsCvp",
        "outputId": "d6efe2f9-9961-4acb-f8f2-fcd24f66e554"
      },
      "execution_count": null,
      "outputs": [
        {
          "output_type": "display_data",
          "data": {
            "text/plain": [
              "<Figure size 432x288 with 1 Axes>"
            ],
            "image/png": "[encoded data removed]"
          },
          "metadata": {}
        }
      ]
    },
    {
      "cell_type": "code",
      "source": [
        "#After building model, we prepare for prediction\n",
        "df_train_v2 = df.loc[train_date]\n",
        "part_60_days = df_train_v2.tail(60)\n",
        "df_set= part_60_days.append(df_test, ignore_index = True)\n",
        "df_set.drop(['Date'], axis = 1, inplace=True)\n",
        "df_set.head()"
      ],
      "metadata": {
        "colab": {
          "base_uri": "https://localhost:8080/",
          "height": 206
        },
        "id": "KPnjtzxfsk97",
        "outputId": "f20075e6-2f60-428d-c277-046d7c195cdb"
      },
      "execution_count": null,
      "outputs": [
        {
          "output_type": "execute_result",
          "data": {
            "text/plain": [
              "       Open      High       Low     Close\n",
              "0  44399.98  47799.97  44259.27  47799.97\n",
              "1  47794.49  48083.79  46151.36  47053.51\n",
              "2  47056.98  47320.04  45608.97  47057.49\n",
              "3  47056.27  47968.20  45669.48  45906.74\n",
              "4  45942.60  47029.60  44569.56  44569.56"
            ],
            "text/html": [
              "\n",
              "  <div id=\"df-44527c6e-927b-4131-89f6-d8c1106166f8\">\n",
              "    <div class=\"colab-df-container\">\n",
              "      <div>\n",
              "<style scoped>\n",
              "    .dataframe tbody tr th:only-of-type {\n",
              "        vertical-align: middle;\n",
              "    }\n",
              "\n",
              "    .dataframe tbody tr th {\n",
              "        vertical-align: top;\n",
              "    }\n",
              "\n",
              "    .dataframe thead th {\n",
              "        text-align: right;\n",
              "    }\n",
              "</style>\n",
              "<table border=\"1\" class=\"dataframe\">\n",
              "  <thead>\n",
              "    <tr style=\"text-align: right;\">\n",
              "      <th></th>\n",
              "      <th>Open</th>\n",
              "      <th>High</th>\n",
              "      <th>Low</th>\n",
              "      <th>Close</th>\n",
              "    </tr>\n",
              "  </thead>\n",
              "  <tbody>\n",
              "    <tr>\n",
              "      <th>0</th>\n",
              "      <td>44399.98</td>\n",
              "      <td>47799.97</td>\n",
              "      <td>44259.27</td>\n",
              "      <td>47799.97</td>\n",
              "    </tr>\n",
              "    <tr>\n",
              "      <th>1</th>\n",
              "      <td>47794.49</td>\n",
              "      <td>48083.79</td>\n",
              "      <td>46151.36</td>\n",
              "      <td>47053.51</td>\n",
              "    </tr>\n",
              "    <tr>\n",
              "      <th>2</th>\n",
              "      <td>47056.98</td>\n",
              "      <td>47320.04</td>\n",
              "      <td>45608.97</td>\n",
              "      <td>47057.49</td>\n",
              "    </tr>\n",
              "    <tr>\n",
              "      <th>3</th>\n",
              "      <td>47056.27</td>\n",
              "      <td>47968.20</td>\n",
              "      <td>45669.48</td>\n",
              "      <td>45906.74</td>\n",
              "    </tr>\n",
              "    <tr>\n",
              "      <th>4</th>\n",
              "      <td>45942.60</td>\n",
              "      <td>47029.60</td>\n",
              "      <td>44569.56</td>\n",
              "      <td>44569.56</td>\n",
              "    </tr>\n",
              "  </tbody>\n",
              "</table>\n",
              "</div>\n",
              "      <button class=\"colab-df-convert\" onclick=\"convertToInteractive('df-44527c6e-927b-4131-89f6-d8c1106166f8')\"\n",
              "              title=\"Convert this dataframe to an interactive table.\"\n",
              "              style=\"display:none;\">\n",
              "        \n",
              "  <svg xmlns=\"http://www.w3.org/2000/svg\" height=\"24px\"viewBox=\"0 0 24 24\"\n",
              "       width=\"24px\">\n",
              "    <path d=\"M0 0h24v24H0V0z\" fill=\"none\"/>\n",
              "    <path d=\"M18.56 5.44l.94 2.06.94-2.06 2.06-.94-2.06-.94-.94-2.06-.94 2.06-2.06.94zm-11 1L8.5 8.5l.94-2.06 2.06-.94-2.06-.94L8.5 2.5l-.94 2.06-2.06.94zm10 10l.94 2.06.94-2.06 2.06-.94-2.06-.94-.94-2.06-.94 2.06-2.06.94z\"/><path d=\"M17.41 7.96l-1.37-1.37c-.4-.4-.92-.59-1.43-.59-.52 0-1.04.2-1.43.59L10.3 9.45l-7.72 7.72c-.78.78-.78 2.05 0 2.83L4 21.41c.39.39.9.59 1.41.59.51 0 1.02-.2 1.41-.59l7.78-7.78 2.81-2.81c.8-.78.8-2.07 0-2.86zM5.41 20L4 18.59l7.72-7.72 1.47 1.35L5.41 20z\"/>\n",
              "  </svg>\n",
              "      </button>\n",
              "      \n",
              "  <style>\n",
              "    .colab-df-container {\n",
              "      display:flex;\n",
              "      flex-wrap:wrap;\n",
              "      gap: 12px;\n",
              "    }\n",
              "\n",
              "    .colab-df-convert {\n",
              "      background-color: #E8F0FE;\n",
              "      border: none;\n",
              "      border-radius: 50%;\n",
              "      cursor: pointer;\n",
              "      display: none;\n",
              "      fill: #1967D2;\n",
              "      height: 32px;\n",
              "      padding: 0 0 0 0;\n",
              "      width: 32px;\n",
              "    }\n",
              "\n",
              "    .colab-df-convert:hover {\n",
              "      background-color: #E2EBFA;\n",
              "      box-shadow: 0px 1px 2px rgba(60, 64, 67, 0.3), 0px 1px 3px 1px rgba(60, 64, 67, 0.15);\n",
              "      fill: #174EA6;\n",
              "    }\n",
              "\n",
              "    [theme=dark] .colab-df-convert {\n",
              "      background-color: #3B4455;\n",
              "      fill: #D2E3FC;\n",
              "    }\n",
              "\n",
              "    [theme=dark] .colab-df-convert:hover {\n",
              "      background-color: #434B5C;\n",
              "      box-shadow: 0px 1px 3px 1px rgba(0, 0, 0, 0.15);\n",
              "      filter: drop-shadow(0px 1px 2px rgba(0, 0, 0, 0.3));\n",
              "      fill: #FFFFFF;\n",
              "    }\n",
              "  </style>\n",
              "\n",
              "      <script>\n",
              "        const buttonEl =\n",
              "          document.querySelector('#df-44527c6e-927b-4131-89f6-d8c1106166f8 button.colab-df-convert');\n",
              "        buttonEl.style.display =\n",
              "          google.colab.kernel.accessAllowed ? 'block' : 'none';\n",
              "\n",
              "        async function convertToInteractive(key) {\n",
              "          const element = document.querySelector('#df-44527c6e-927b-4131-89f6-d8c1106166f8');\n",
              "          const dataTable =\n",
              "            await google.colab.kernel.invokeFunction('convertToInteractive',\n",
              "                                                     [key], {});\n",
              "          if (!dataTable) return;\n",
              "\n",
              "          const docLinkHtml = 'Like what you see? Visit the ' +\n",
              "            '<a target=\"_blank\" href=https://colab.research.google.com/notebooks/data_table.ipynb>data table notebook</a>'\n",
              "            + ' to learn more about interactive tables.';\n",
              "          element.innerHTML = '';\n",
              "          dataTable['output_type'] = 'display_data';\n",
              "          await google.colab.output.renderOutput(dataTable, element);\n",
              "          const docLink = document.createElement('div');\n",
              "          docLink.innerHTML = docLinkHtml;\n",
              "          element.appendChild(docLink);\n",
              "        }\n",
              "      </script>\n",
              "    </div>\n",
              "  </div>\n",
              "  "
            ]
          },
          "metadata": {},
          "execution_count": 25
        }
      ]
    },
    {
      "cell_type": "code",
      "source": [
        "input_set = scaler.transform(df_set)\n"
      ],
      "metadata": {
        "id": "T_AfwoJEtYSL"
      },
      "execution_count": null,
      "outputs": []
    },
    {
      "cell_type": "code",
      "source": [
        "X_test = []\n",
        "Y_test = []\n",
        "\n",
        "for i in range (60, input_set.shape[0]):\n",
        "    X_test = np.append(X_test, input_set[i-60:i])\n",
        "    Y_test = np.append(Y_test, input_set[i, 0])\n",
        "    "
      ],
      "metadata": {
        "id": "yFOnmROGtmIJ"
      },
      "execution_count": null,
      "outputs": []
    },
    {
      "cell_type": "code",
      "source": [
        "X_test, Y_test = np.array(X_test), np.array(Y_test)\n",
        "X_test.shape, Y_test.shape"
      ],
      "metadata": {
        "id": "J5PqK0M0nk2H",
        "colab": {
          "base_uri": "https://localhost:8080/"
        },
        "outputId": "90df7fba-fa2d-46f7-dc97-894df0109903"
      },
      "execution_count": null,
      "outputs": [
        {
          "output_type": "execute_result",
          "data": {
            "text/plain": [
              "((52320,), (218,))"
            ]
          },
          "metadata": {},
          "execution_count": 28
        }
      ]
    },
    {
      "cell_type": "code",
      "source": [
        "X_test = X_test.reshape((218, 60,4))\n"
      ],
      "metadata": {
        "id": "x3YPviMzS4Np"
      },
      "execution_count": null,
      "outputs": []
    },
    {
      "cell_type": "code",
      "source": [
        "#We start the prediction\n",
        "Y_pred = model.predict(X_test)"
      ],
      "metadata": {
        "id": "GFSK5v1tylG5"
      },
      "execution_count": null,
      "outputs": []
    },
    {
      "cell_type": "code",
      "source": [
        "print('R2 Score: ', r2_score(Y_test, Y_pred))\n",
        "print('MAE: ', mean_absolute_error(Y_test, Y_pred))"
      ],
      "metadata": {
        "colab": {
          "base_uri": "https://localhost:8080/"
        },
        "id": "jj15EO5EtIw0",
        "outputId": "a5b32e3b-fb8f-4fa6-b517-c16197ac942d"
      },
      "execution_count": null,
      "outputs": [
        {
          "output_type": "stream",
          "name": "stdout",
          "text": [
            "R2 Score:  0.6366580672379822\n",
            "MAE:  0.07173912317521797\n"
          ]
        }
      ]
    },
    {
      "cell_type": "code",
      "source": [
        "#inverse transform manually\n",
        "scaler.scale_\n",
        "scale = 1/1.70226036e-05\n",
        "\n",
        "Y_test = Y_test*scale\n",
        "Y_pred = Y_pred*scale"
      ],
      "metadata": {
        "id": "WkIjv2FHUbpZ"
      },
      "execution_count": null,
      "outputs": []
    },
    {
      "cell_type": "code",
      "source": [
        "#reverse the sorting so that we can understand the direction of price\n",
        "Y_pred=np.flip(Y_pred)\n",
        "Y_test=np.flip(Y_test)"
      ],
      "metadata": {
        "id": "YVcsaE6sU7Ni"
      },
      "execution_count": null,
      "outputs": []
    },
    {
      "cell_type": "code",
      "source": [
        "#plot the prediction versus actual data\n",
        "plt.figure(figsize=(14,5))\n",
        "plt.plot(Y_test, color = 'red', label = 'Real Bitcoin Price')\n",
        "plt.plot(Y_pred, color = 'green', label = 'Predicted Bitcoin Price')\n",
        "plt.title('Bitcoin Price Prediction using RNN-LSTM')\n",
        "plt.xlabel('Time')\n",
        "plt.ylabel('Price')\n",
        "plt.legend()\n",
        "plt.show()"
      ],
      "metadata": {
        "colab": {
          "base_uri": "https://localhost:8080/",
          "height": 355
        },
        "id": "vODupiQ2UijW",
        "outputId": "e7b07570-005b-4d52-f373-dcd8097d88ef"
      },
      "execution_count": null,
      "outputs": [
        {
          "output_type": "display_data",
          "data": {
            "text/plain": [
              "<Figure size 1008x360 with 1 Axes>"
            ],
            "image/png": "[encoded data removed]"
          },
          "metadata": {}
        }
      ]
    }
  ]
}